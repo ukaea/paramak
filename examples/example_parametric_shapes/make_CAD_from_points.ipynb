{
 "cells": [
  {
   "cell_type": "markdown",
   "metadata": {},
   "source": [
    "This python script demonstrates the creation of 3D volumes from points using extrude and rotate methods"
   ]
  },
  {
   "cell_type": "code",
   "execution_count": null,
   "metadata": {},
   "outputs": [],
   "source": [
    "import paramak\n",
    "\n",
    "rotated_straights = paramak.RotateStraightShape(\n",
    "    points=[\n",
    "        (400, 100),\n",
    "        (400, 200),\n",
    "        (600, 200),\n",
    "        (600, 100)\n",
    "           ],\n",
    "    rotation_angle = 180\n",
    ")\n",
    "\n",
    "rotated_straights.solid"
   ]
  },
  {
   "cell_type": "code",
   "execution_count": null,
   "metadata": {},
   "outputs": [],
   "source": [
    "rotated_spline = paramak.RotateSplineShape(\n",
    "    points=[\n",
    "       (500, 0),\n",
    "       (500, -20),\n",
    "       (400, -300),\n",
    "       (300, -300),\n",
    "       (400, 0),\n",
    "       (300, 300),\n",
    "       (400, 300),\n",
    "       (500, 20),\n",
    "      ],\n",
    "rotation_angle = 180\n",
    ")\n",
    "\n",
    "rotated_spline.solid"
   ]
  },
  {
   "cell_type": "code",
   "execution_count": null,
   "metadata": {},
   "outputs": [],
   "source": [
    "rotated_mixed = paramak.RotateMixedShape(\n",
    "    points=[\n",
    "        (100, 0, 'straight'),\n",
    "        (200, 0, 'circle'),\n",
    "        (250, 50, 'circle'),\n",
    "        (200, 100, 'straight'),\n",
    "        (150, 100, 'spline'),\n",
    "        (140, 75, 'spline'),\n",
    "        (110, 45, 'spline'),\n",
    "    ],\n",
    "    rotation_angle = 180\n",
    ")\n",
    "\n",
    "rotated_mixed.solid"
   ]
  },
  {
   "cell_type": "markdown",
   "metadata": {},
   "source": [
    "This makes a circular shape and rotates it to make a solid"
   ]
  },
  {
   "cell_type": "code",
   "execution_count": null,
   "metadata": {},
   "outputs": [],
   "source": [
    "rotated_circle = paramak.RotateCircleShape(\n",
    "    points=[(50, 0)],\n",
    "    radius=5,\n",
    "    rotation_angle=180\n",
    ")\n",
    "\n",
    "rotated_circle.solid"
   ]
  },
  {
   "cell_type": "code",
   "execution_count": null,
   "metadata": {},
   "outputs": [],
   "source": [
    "rotated_circle = paramak.ExtrudeCircleShape(\n",
    "    points=[(50, 0)],\n",
    "    radius=5,\n",
    "    distance=15\n",
    ")\n",
    "\n",
    "rotated_circle.solid"
   ]
  },
  {
   "cell_type": "markdown",
   "metadata": {},
   "source": [
    "This makes a banana shape with straight edges and extrudes it to make a solid"
   ]
  },
  {
   "cell_type": "code",
   "execution_count": null,
   "metadata": {},
   "outputs": [],
   "source": [
    "extruded_straight = paramak.ExtrudeStraightShape(\n",
    "    points=[\n",
    "         (300, -300),\n",
    "         (400, 0),\n",
    "         (300, 300),\n",
    "         (400, 300),\n",
    "         (500, 0),\n",
    "         (400, -300),\n",
    "        ],\n",
    "    distance=200\n",
    ")\n",
    "extruded_straight.solid"
   ]
  },
  {
   "cell_type": "markdown",
   "metadata": {},
   "source": [
    "This makes a banana shape and rotates it to make a solid"
   ]
  },
  {
   "cell_type": "code",
   "execution_count": null,
   "metadata": {},
   "outputs": [],
   "source": [
    "extruded_spline = paramak.ExtrudeSplineShape(\n",
    "    points=[\n",
    "         (500, 0),\n",
    "         (500, -20),\n",
    "         (400, -300),\n",
    "         (300, -300),\n",
    "         (400, 0),\n",
    "         (300, 300),\n",
    "         (400, 300),\n",
    "         (500, 20),\n",
    "        ],\n",
    " distance=200,\n",
    ")\n",
    "\n",
    "extruded_spline.solid"
   ]
  },
  {
   "cell_type": "markdown",
   "metadata": {},
   "source": [
    "This makes a shape with straight, circular and spline edges and extrudes it to make a solid"
   ]
  },
  {
   "cell_type": "code",
   "execution_count": null,
   "metadata": {},
   "outputs": [],
   "source": [
    "extruded_mixed = paramak.ExtrudeMixedShape(\n",
    "    points=[\n",
    "        (100, 0, 'straight'),\n",
    "        (200, 0, 'circle'),\n",
    "        (250, 50, 'circle'),\n",
    "        (200, 100, 'straight'),\n",
    "        (150, 100, 'spline'),\n",
    "        (140, 75, 'spline'),\n",
    "        (110, 45, 'spline'),\n",
    "      ],\n",
    "    distance=200\n",
    ")\n",
    "\n",
    "extruded_mixed.solid"
   ]
  }
 ],
 "metadata": {
  "kernelspec": {
   "display_name": "Python 3",
   "language": "python",
   "name": "python3"
  },
  "language_info": {
   "codemirror_mode": {
    "name": "ipython",
    "version": 3
   },
   "file_extension": ".py",
   "mimetype": "text/x-python",
   "name": "python",
   "nbconvert_exporter": "python",
   "pygments_lexer": "ipython3",
   "version": "3.7.3"
  }
 },
 "nbformat": 4,
 "nbformat_minor": 4
}
